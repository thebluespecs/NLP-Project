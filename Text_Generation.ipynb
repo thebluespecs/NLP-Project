{
  "nbformat": 4,
  "nbformat_minor": 0,
  "metadata": {
    "colab": {
      "name": "Text Generation.ipynb",
      "provenance": [],
      "collapsed_sections": [],
      "toc_visible": true
    },
    "kernelspec": {
      "name": "python3",
      "display_name": "Python 3"
    }
  },
  "cells": [
    {
      "cell_type": "markdown",
      "metadata": {
        "id": "ADtjJR_Fuig0",
        "colab_type": "text"
      },
      "source": [
        "Let's use the repository created by GitHub user [nshepperd](https://github.com/nshepperd). Clone the repo and install all requirements."
      ]
    },
    {
      "cell_type": "code",
      "metadata": {
        "id": "ICYu3w9hIJkC",
        "colab_type": "code",
        "colab": {}
      },
      "source": [
        "!git clone https://github.com/nshepperd/gpt-2.git\n",
        "%cd gpt-2\n",
        "!pip3 install -r requirements.txt\n",
        "!pip3 install tensorflow==1.13.1"
      ],
      "execution_count": 0,
      "outputs": []
    },
    {
      "cell_type": "markdown",
      "metadata": {
        "id": "A4Vy81R5vmLL",
        "colab_type": "text"
      },
      "source": [
        "Download the pre-trained model. This could take upto a couple of minutes to download."
      ]
    },
    {
      "cell_type": "code",
      "metadata": {
        "id": "5UDpEGjfO8Q2",
        "colab_type": "code",
        "colab": {}
      },
      "source": [
        "cd gpt-2\n",
        "!python3 download_model.py 345M\n",
        "%cd models/345M/"
      ],
      "execution_count": 0,
      "outputs": []
    },
    {
      "cell_type": "markdown",
      "metadata": {
        "id": "jWdyBaL5vvPV",
        "colab_type": "text"
      },
      "source": [
        "Uncomment the following code by removing ''#'' at the beginning if you want to train the model again. To train on a custom dataset, change the txt file in dataset argument."
      ]
    },
    {
      "cell_type": "code",
      "metadata": {
        "id": "pEn_ihcGI00T",
        "colab_type": "code",
        "colab": {}
      },
      "source": [
        " !export PYTHONIOENCODING=UTF-8\n",
        " !wget -O ASOIAF.txt 'https://docs.google.com/uc?export=download&id=1pfhwD9xRUl5XEcqNUKJbV9n-WkT-YDZE'\n",
        " !PYTHONPATH=src /content/gpt-2/train.py --dataset /content/gpt-2/ASOIAF.txt --model_name '345M'\n",
        " !cp -r /content/gpt-2/checkpoint/run1/* /content/gpt-2/models/345M/"
      ],
      "execution_count": 0,
      "outputs": []
    },
    {
      "cell_type": "markdown",
      "metadata": {
        "id": "t-8dDl2YvP8F",
        "colab_type": "text"
      },
      "source": [
        "Save checkpoints"
      ]
    },
    {
      "cell_type": "code",
      "metadata": {
        "id": "De6E2CEUukTc",
        "colab_type": "code",
        "colab": {}
      },
      "source": [
        "!cp -r /content/gpt-2/checkpoint/ /content/drive/My\\ Drive/"
      ],
      "execution_count": 0,
      "outputs": []
    },
    {
      "cell_type": "markdown",
      "metadata": {
        "id": "SKz1OcIgvdhg",
        "colab_type": "text"
      },
      "source": [
        "Load model checkpoints from drive"
      ]
    },
    {
      "cell_type": "code",
      "metadata": {
        "id": "7bbXSPFnulRw",
        "colab_type": "code",
        "colab": {}
      },
      "source": [
        "!cp -r /content/gpt-2/checkpoint/run1/* /content/gpt-2/models/345M/"
      ],
      "execution_count": 0,
      "outputs": []
    },
    {
      "cell_type": "markdown",
      "metadata": {
        "id": "eheQi-ipwJaQ",
        "colab_type": "text"
      },
      "source": [
        "The model is ready to be played with at this point! Let's generate some samples conditional on the input text you give to the model. Execute the following and wait for the model prompt to come up. Have fun!"
      ]
    },
    {
      "cell_type": "code",
      "metadata": {
        "id": "utJj-iY4gHwE",
        "colab_type": "code",
        "colab": {}
      },
      "source": [
        "!python3 src/interactive_conditional_samples.py --top_k 50 --model_name \"345M\""
      ],
      "execution_count": 0,
      "outputs": []
    },
    {
      "cell_type": "code",
      "metadata": {
        "id": "UlJKyth4gEZb",
        "colab_type": "code",
        "colab": {}
      },
      "source": [
        "!python3 src/generate_unconditional_samples.py --temperature 0.8 --top_k 50 --model_name \"345M\"  | tee /tmp/samples"
      ],
      "execution_count": 0,
      "outputs": []
    },
    {
      "cell_type": "code",
      "metadata": {
        "id": "r7iub8SAJxia",
        "colab_type": "code",
        "colab": {}
      },
      "source": [
        "!python3 src/generate_unconditional_samples.py -- --help"
      ],
      "execution_count": 0,
      "outputs": []
    }
  ]
}