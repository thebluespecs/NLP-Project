{
 "cells": [
  {
   "cell_type": "markdown",
   "metadata": {
    "colab_type": "text",
    "id": "ADtjJR_Fuig0"
   },
   "source": [
    "Let's use the repository created by GitHub user [nshepperd](https://github.com/nshepperd). Clone the repo and install all requirements."
   ]
  },
  {
   "cell_type": "code",
   "execution_count": 0,
   "metadata": {
    "colab": {},
    "colab_type": "code",
    "id": "ICYu3w9hIJkC"
   },
   "outputs": [],
   "source": [
    "!git clone https://github.com/nshepperd/gpt-2.git\n",
    "%cd gpt-2\n",
    "!pip3 install -r requirements.txt\n",
    "!pip3 install tensorflow==1.13.1"
   ]
  },
  {
   "cell_type": "markdown",
   "metadata": {
    "colab_type": "text",
    "id": "A4Vy81R5vmLL"
   },
   "source": [
    "Download the pre-trained model. This could take upto a couple of minutes to download."
   ]
  },
  {
   "cell_type": "code",
   "execution_count": 0,
   "metadata": {
    "colab": {},
    "colab_type": "code",
    "id": "5UDpEGjfO8Q2"
   },
   "outputs": [],
   "source": [
    "cd gpt-2\n",
    "!python3 download_model.py 345M\n",
    "%cd models/345M/"
   ]
  },
  {
   "cell_type": "markdown",
   "metadata": {
    "colab_type": "text",
    "id": "jWdyBaL5vvPV"
   },
   "source": [
    "Uncomment the following code by removing ''#'' at the beginning if you want to train the model again. To train on a custom dataset, change the txt file in dataset argument."
   ]
  },
  {
   "cell_type": "code",
   "execution_count": 0,
   "metadata": {
    "colab": {},
    "colab_type": "code",
    "id": "pEn_ihcGI00T"
   },
   "outputs": [],
   "source": [
    " !export PYTHONIOENCODING=UTF-8\n",
    " !wget -O ASOIAF.txt 'https://docs.google.com/uc?export=download&id=1pfhwD9xRUl5XEcqNUKJbV9n-WkT-YDZE'\n",
    " !PYTHONPATH=src /content/gpt-2/train.py --dataset /content/gpt-2/ASOIAF.txt --model_name '345M'\n",
    " !cp -r /content/gpt-2/checkpoint/run1/* /content/gpt-2/models/345M/"
   ]
  },
  {
   "cell_type": "markdown",
   "metadata": {
    "colab_type": "text",
    "id": "t-8dDl2YvP8F"
   },
   "source": [
    "Save checkpoints"
   ]
  },
  {
   "cell_type": "code",
   "execution_count": 0,
   "metadata": {
    "colab": {},
    "colab_type": "code",
    "id": "De6E2CEUukTc"
   },
   "outputs": [],
   "source": [
    "!cp -r /content/gpt-2/checkpoint/ /content/drive/My\\ Drive/"
   ]
  },
  {
   "cell_type": "markdown",
   "metadata": {
    "colab_type": "text",
    "id": "SKz1OcIgvdhg"
   },
   "source": [
    "Load model checkpoints from drive"
   ]
  },
  {
   "cell_type": "code",
   "execution_count": 0,
   "metadata": {
    "colab": {},
    "colab_type": "code",
    "id": "7bbXSPFnulRw"
   },
   "outputs": [],
   "source": [
    "!cp -r /content/gpt-2/checkpoint/run1/* /content/gpt-2/models/345M/"
   ]
  },
  {
   "cell_type": "markdown",
   "metadata": {
    "colab_type": "text",
    "id": "eheQi-ipwJaQ"
   },
   "source": [
    "The model is ready to be played with at this point! Let's generate some samples conditional on the input text you give to the model. Execute the following and wait for the model prompt to come up. Have fun!"
   ]
  },
  {
   "cell_type": "code",
   "execution_count": 0,
   "metadata": {
    "colab": {},
    "colab_type": "code",
    "id": "utJj-iY4gHwE"
   },
   "outputs": [],
   "source": [
    "!python3 src/interactive_conditional_samples.py --top_k 50 --model_name \"345M\""
   ]
  },
  {
   "cell_type": "code",
   "execution_count": 0,
   "metadata": {
    "colab": {},
    "colab_type": "code",
    "id": "UlJKyth4gEZb"
   },
   "outputs": [],
   "source": [
    "!python3 src/generate_unconditional_samples.py --temperature 0.8 --top_k 50 --model_name \"345M\"  | tee /tmp/samples"
   ]
  },
  {
   "cell_type": "code",
   "execution_count": 0,
   "metadata": {
    "colab": {},
    "colab_type": "code",
    "id": "r7iub8SAJxia"
   },
   "outputs": [],
   "source": [
    "!python3 src/generate_unconditional_samples.py -- --help"
   ]
  }
 ],
 "metadata": {
  "colab": {
   "collapsed_sections": [],
   "name": "Text Generation.ipynb",
   "provenance": [],
   "toc_visible": true
  },
  "kernelspec": {
   "display_name": "Python 3",
   "language": "python",
   "name": "python3"
  },
  "language_info": {
   "codemirror_mode": {
    "name": "ipython",
    "version": 3
   },
   "file_extension": ".py",
   "mimetype": "text/x-python",
   "name": "python",
   "nbconvert_exporter": "python",
   "pygments_lexer": "ipython3",
   "version": "3.7.5"
  }
 },
 "nbformat": 4,
 "nbformat_minor": 1
}
